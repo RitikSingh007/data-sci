{
 "cells": [
  {
   "attachments": {},
   "cell_type": "markdown",
   "metadata": {},
   "source": [
    "# Data Structures\n",
    "- list\n",
    "   - ordered , indexed , mutable , duplicates , '[ ]'\n",
    "- tuple \n",
    "   - ordered , indexed , **immutable**, dublicates allowed , '( )'\n",
    "- set \n",
    "   - unordered , unindexed , mutable , **only unique elements** , '{ }'\n",
    "- dict \n",
    "   - ordered , unindexed , mutable , **key:value pairs** , duplicates values allowed , '{ }'\n",
    "   \n"
   ]
  },
  {
   "cell_type": "code",
   "execution_count": 1,
   "metadata": {},
   "outputs": [
    {
     "name": "stdout",
     "output_type": "stream",
     "text": [
      "[]\n",
      "[2, 3, 4, 5, 6, 5, 8]\n",
      "['a', 'v', 'c', 'd']\n",
      "[1, 'a', 2, 'b', 3, 'c']\n",
      "[1, 2, [3, 4], [5, 6]]\n"
     ]
    }
   ],
   "source": [
    "x = [] # empty list\n",
    "print(x)\n",
    "\n",
    "y = [2,3,4,5,6,5,8] # list of integers \n",
    "print(y)\n",
    "\n",
    "z = ['a','v','c','d' ] # list of strings\n",
    "print(z)\n",
    "\n",
    "# list of mixed data types \n",
    "w = [1,'a',2,'b',3,'c']\n",
    "print(w)\n",
    "\n",
    "# nested list \n",
    "v = [1,2,[3,4],[5,6]] # 4 elements \n",
    "print(v)\n",
    "\n"
   ]
  },
  {
   "cell_type": "code",
   "execution_count": 3,
   "metadata": {},
   "outputs": [
    {
     "name": "stdout",
     "output_type": "stream",
     "text": [
      "[2, 3, 4, 6, 5, 8]\n"
     ]
    }
   ],
   "source": [
    "y.remove(5)\n",
    "print(y)"
   ]
  },
  {
   "cell_type": "code",
   "execution_count": 4,
   "metadata": {},
   "outputs": [
    {
     "name": "stdout",
     "output_type": "stream",
     "text": [
      "[2, 3, 50, 4, 6, 5, 8]\n"
     ]
    }
   ],
   "source": [
    "y.insert(2,50)\n",
    "print(y)"
   ]
  },
  {
   "cell_type": "code",
   "execution_count": 5,
   "metadata": {},
   "outputs": [
    {
     "name": "stdout",
     "output_type": "stream",
     "text": [
      "[2, 3, 4, 5, 6, 8, 50]\n"
     ]
    }
   ],
   "source": [
    "y.sort()\n",
    "print(y)\n"
   ]
  },
  {
   "cell_type": "code",
   "execution_count": 6,
   "metadata": {},
   "outputs": [
    {
     "name": "stdout",
     "output_type": "stream",
     "text": [
      "[50, 8, 6, 5, 4, 3, 2]\n"
     ]
    }
   ],
   "source": [
    "y.reverse()\n",
    "print(y)"
   ]
  },
  {
   "cell_type": "code",
   "execution_count": 7,
   "metadata": {},
   "outputs": [
    {
     "name": "stdout",
     "output_type": "stream",
     "text": [
      "[50, 8, 6, 5, 4, 3, 2]\n"
     ]
    }
   ],
   "source": [
    "y.sort(reverse=True)\n",
    "print(y)"
   ]
  }
 ],
 "metadata": {
  "kernelspec": {
   "display_name": "base",
   "language": "python",
   "name": "python3"
  },
  "language_info": {
   "codemirror_mode": {
    "name": "ipython",
    "version": 3
   },
   "file_extension": ".py",
   "mimetype": "text/x-python",
   "name": "python",
   "nbconvert_exporter": "python",
   "pygments_lexer": "ipython3",
   "version": "3.10.8"
  },
  "orig_nbformat": 4,
  "vscode": {
   "interpreter": {
    "hash": "4e9bf435d1bb3a4a8960a5d5d02e8c9d04d5212967cfa79857aec7623d6d5bd8"
   }
  }
 },
 "nbformat": 4,
 "nbformat_minor": 2
}
