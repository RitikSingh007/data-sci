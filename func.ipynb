{
 "cells": [
  {
   "cell_type": "markdown",
   "metadata": {},
   "source": [
    "# syntax for defining\n",
    "\n",
    "def fun_name(<params..>):\n",
    "    statement 1\n",
    "    statement 2\n",
    "    statement 3\n",
    "    statement 4\n",
    "    ...\n",
    "    statement n\n",
    "    <return Values...>\n",
    "\n",
    "calling a function\n",
    "\n",
    "\n",
    "\n"
   ]
  },
  {
   "cell_type": "code",
   "execution_count": 3,
   "metadata": {},
   "outputs": [],
   "source": [
    "def greetings():\n",
    "    print('Welcome to the function ')\n",
    "    print('hope you are happy')\n",
    "    print('have a nice day')\n"
   ]
  },
  {
   "cell_type": "code",
   "execution_count": 4,
   "metadata": {},
   "outputs": [
    {
     "name": "stdout",
     "output_type": "stream",
     "text": [
      "Welcome to the function \n",
      "hope you are happy\n",
      "have a nice day\n"
     ]
    }
   ],
   "source": [
    "greetings()"
   ]
  },
  {
   "cell_type": "code",
   "execution_count": 5,
   "metadata": {},
   "outputs": [
    {
     "name": "stdout",
     "output_type": "stream",
     "text": [
      "5\n"
     ]
    }
   ],
   "source": [
    "ans = len('hello')\n",
    "print(ans)\n"
   ]
  },
  {
   "cell_type": "code",
   "execution_count": 6,
   "metadata": {},
   "outputs": [
    {
     "name": "stdout",
     "output_type": "stream",
     "text": [
      "Welcome to the function \n",
      "hope you are happy\n",
      "have a nice day\n",
      "None\n"
     ]
    }
   ],
   "source": [
    "ans = greetings()\n",
    "print(ans)"
   ]
  },
  {
   "cell_type": "code",
   "execution_count": 10,
   "metadata": {},
   "outputs": [],
   "source": [
    "def random3():\n",
    "    from random import choices\n",
    "    value = list('😺👻👩🏼‍🌾🧖🏻‍♀️😃🧌😊😒😁👻🥷🏿')\n",
    "    return \" \".join(choices(value, k = 3))\n"
   ]
  },
  {
   "cell_type": "code",
   "execution_count": 11,
   "metadata": {},
   "outputs": [
    {
     "data": {
      "text/plain": [
       "'🏿 🥷 😃'"
      ]
     },
     "execution_count": 11,
     "metadata": {},
     "output_type": "execute_result"
    }
   ],
   "source": [
    "random3()"
   ]
  },
  {
   "cell_type": "code",
   "execution_count": 17,
   "metadata": {},
   "outputs": [
    {
     "name": "stdout",
     "output_type": "stream",
     "text": [
      "🌾 😒 😃\n",
      "😊 😺 🏻\n",
      "♀ ♀ ‍\n",
      "👻 🥷 😒\n",
      "😒 ‍ 😒\n",
      "🏼 🌾 🧖\n",
      "🌾 😊 ‍\n",
      "‍ 🥷 🥷\n",
      "🌾 🏻 ‍\n",
      "🧌 🏼 🏻\n"
     ]
    }
   ],
   "source": [
    "for i in range(10):\n",
    "    print(random3())"
   ]
  },
  {
   "cell_type": "code",
   "execution_count": 18,
   "metadata": {},
   "outputs": [],
   "source": [
    "def random10():\n",
    "    from random import choices\n",
    "    value = list('oawniscuoaebnbinciansonisioeisjr')\n",
    "    return \" \".join(choices(value, k = 10))\n",
    "\n"
   ]
  },
  {
   "cell_type": "code",
   "execution_count": 19,
   "metadata": {},
   "outputs": [
    {
     "data": {
      "text/plain": [
       "'i o u b r a n b e c'"
      ]
     },
     "execution_count": 19,
     "metadata": {},
     "output_type": "execute_result"
    }
   ],
   "source": [
    "random10()"
   ]
  }
 ],
 "metadata": {
  "kernelspec": {
   "display_name": "base",
   "language": "python",
   "name": "python3"
  },
  "language_info": {
   "codemirror_mode": {
    "name": "ipython",
    "version": 3
   },
   "file_extension": ".py",
   "mimetype": "text/x-python",
   "name": "python",
   "nbconvert_exporter": "python",
   "pygments_lexer": "ipython3",
   "version": "3.10.8"
  },
  "orig_nbformat": 4,
  "vscode": {
   "interpreter": {
    "hash": "4e9bf435d1bb3a4a8960a5d5d02e8c9d04d5212967cfa79857aec7623d6d5bd8"
   }
  }
 },
 "nbformat": 4,
 "nbformat_minor": 2
}
