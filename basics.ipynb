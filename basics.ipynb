{
 "cells": [
  {
   "cell_type": "code",
   "execution_count": 2,
   "source": [
    "x = 100\n",
    "y = 200\n",
    "z = x + y\n",
    "Name = 'Ritik'\n",
    "city = 'Lucknow'\n",
    "Skills = ['Python','Kotlin']\n"
   ],
   "outputs": [],
   "metadata": {}
  }
 ],
 "metadata": {
  "orig_nbformat": 4,
  "language_info": {
   "name": "python",
   "version": "3.10.8",
   "mimetype": "text/x-python",
   "codemirror_mode": {
    "name": "ipython",
    "version": 3
   },
   "pygments_lexer": "ipython3",
   "nbconvert_exporter": "python",
   "file_extension": ".py"
  },
  "kernelspec": {
   "name": "python3",
   "display_name": "Python 3.10.8 64-bit ('base': conda)"
  },
  "interpreter": {
   "hash": "98a13adaa3d449fe1bd324ed777c2607e2e7e02414ddb09f94b21fba471b5dac"
  }
 },
 "nbformat": 4,
 "nbformat_minor": 2
}