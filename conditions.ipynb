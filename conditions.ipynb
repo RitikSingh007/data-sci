{
 "cells": [
  {
   "cell_type": "markdown",
   "source": [
    "# condition\n",
    "  - if \n",
    "  - else\n",
    "  - nested if\n",
    "  - if elif else\n",
    "  - match\n"
   ],
   "metadata": {}
  },
  {
   "cell_type": "code",
   "execution_count": 1,
   "source": [
    "count = int(input(\"Enter a value : \"))\n",
    "if count > 5:\n",
    "    print(\"you are going to run this part\")\n",
    "\n",
    "if count > 15:\n",
    "    print(\"you are going to see this also \") \n",
    "       \n"
   ],
   "outputs": [
    {
     "output_type": "stream",
     "name": "stdout",
     "text": [
      "you are going to run this part\n",
      "you are going to see this also \n"
     ]
    }
   ],
   "metadata": {}
  },
  {
   "cell_type": "markdown",
   "source": [],
   "metadata": {}
  },
  {
   "cell_type": "code",
   "execution_count": 2,
   "source": [
    "a = 10\n",
    "b = 5\n",
    "c = 13\n",
    "if a > b and a < c :\n",
    "    print(f'{a=} is greater ')\n",
    "if b > c and b > a :\n",
    "    print(f'{b=} is greater')\n",
    "if c > a and c < b :\n",
    "    print(f'{c=} is greater')\n",
    "    "
   ],
   "outputs": [
    {
     "output_type": "stream",
     "name": "stdout",
     "text": [
      "a=10 is greater \n",
      "c=13 is greater\n"
     ]
    }
   ],
   "metadata": {}
  },
  {
   "cell_type": "code",
   "execution_count": null,
   "source": [],
   "outputs": [],
   "metadata": {}
  },
  {
   "cell_type": "code",
   "execution_count": null,
   "source": [],
   "outputs": [],
   "metadata": {}
  }
 ],
 "metadata": {
  "orig_nbformat": 4,
  "language_info": {
   "name": "python",
   "version": "3.10.8",
   "mimetype": "text/x-python",
   "codemirror_mode": {
    "name": "ipython",
    "version": 3
   },
   "pygments_lexer": "ipython3",
   "nbconvert_exporter": "python",
   "file_extension": ".py"
  },
  "kernelspec": {
   "name": "python3",
   "display_name": "Python 3.10.8 64-bit ('base': conda)"
  },
  "interpreter": {
   "hash": "98a13adaa3d449fe1bd324ed777c2607e2e7e02414ddb09f94b21fba471b5dac"
  }
 },
 "nbformat": 4,
 "nbformat_minor": 2
}